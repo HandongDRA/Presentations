{
 "cells": [
  {
   "cell_type": "markdown",
   "metadata": {
    "collapsed": true
   },
   "source": [
    "# <center> Titanic Survivor Prediction Using Random Forest </center>"
   ]
  },
  {
   "cell_type": "markdown",
   "metadata": {},
   "source": [
    "<img src=\"img/titanic.jpg\" height=\"500\" width=\"500\">"
   ]
  },
  {
   "cell_type": "markdown",
   "metadata": {},
   "source": [
    "- - -\n",
    "## <u>Contents</u>\n",
    "### Part1: Preprocess Data\n",
    "    1. Import necessary libraries\n",
    "    2. Get data and extract information\n",
    "### Part2: Train and Test Data\n",
    "    3. Train and Test with Single Decision Tree\n",
    "    4. Train and Test with Random Forest\n",
    "- - - "
   ]
  },
  {
   "cell_type": "markdown",
   "metadata": {},
   "source": [
    "- - -\n",
    "## Part1: Preprocess Data\n",
    "- - -\n",
    "### 1. Import necessary libraries"
   ]
  },
  {
   "cell_type": "code",
   "execution_count": 2,
   "metadata": {
    "collapsed": false
   },
   "outputs": [],
   "source": [
    "# TODO: Replace <FILL IN> with appropriate code\n",
    "\n",
    "import numpy as np\n",
    "import pandas as pd\n",
    "from matplotlib import pyplot as plt\n",
    "from sklearn.tree import <FILL IN>\n",
    "from sklearn.ensemble import <FILL IN>\n",
    "from sklearn.model_selection import train_test_split\n",
    "%matplotlib inline"
   ]
  },
  {
   "cell_type": "markdown",
   "metadata": {},
   "source": [
    "### 2. Get data and extract information"
   ]
  },
  {
   "cell_type": "markdown",
   "metadata": {},
   "source": [
    "#### 2.1 Import titanic data from data folder"
   ]
  },
  {
   "cell_type": "code",
   "execution_count": 9,
   "metadata": {
    "collapsed": false
   },
   "outputs": [],
   "source": [
    "# import data.csv from data folder\n",
    "data = pd.read_csv('<FILL IN>', header=0)\n",
    "\n",
    "# check the first five rows\n",
    "data.<FILL IN>"
   ]
  },
  {
   "cell_type": "markdown",
   "metadata": {},
   "source": [
    "#### 2.2 Observe overall detail fo the data"
   ]
  },
  {
   "cell_type": "code",
   "execution_count": 1,
   "metadata": {
    "collapsed": false
   },
   "outputs": [],
   "source": [
    "# TODO: Replace <FILL IN> with appropriate code\n",
    "\n",
    "# Print overall information of the data\n",
    "data.<FILL IN>"
   ]
  },
  {
   "cell_type": "markdown",
   "metadata": {},
   "source": [
    "#### 2.3 Observe overall detail of numeric data"
   ]
  },
  {
   "cell_type": "code",
   "execution_count": 2,
   "metadata": {
    "collapsed": false
   },
   "outputs": [],
   "source": [
    "# TODO: Replace <FILL IN> with appropriate code\n",
    "\n",
    "# Print overall information of the numeric data\n",
    "data.<FILL IN>"
   ]
  },
  {
   "cell_type": "code",
   "execution_count": 3,
   "metadata": {
    "collapsed": false
   },
   "outputs": [],
   "source": [
    "numeric_variables = list(data.dtypes[data.dtypes != \"object\"].index)\n",
    "data[numeric_variables].head()"
   ]
  },
  {
   "cell_type": "markdown",
   "metadata": {},
   "source": [
    "#### 2.4 Data Cleansing"
   ]
  },
  {
   "cell_type": "code",
   "execution_count": 4,
   "metadata": {
    "collapsed": false
   },
   "outputs": [],
   "source": [
    "# TODO: Replace <FILL IN> with appropriate code\n",
    "\n",
    "# drop the columns we will not use\n",
    "data = data.drop(<FILL IN>)\n",
    "\n",
    "# convert string values to dummy variables\n",
    "data['Sex'] = pd.Categorical(data.Sex).codes\n",
    "data['Embarked'] = pd.Categorical(data.Embarked).codes\n",
    "\n",
    "# fill NaN data with preceding values (ffill)\n",
    "data.fillna(<FILL IN>)\n",
    "\n",
    "# see the cleaned data\n",
    "data"
   ]
  },
  {
   "cell_type": "markdown",
   "metadata": {},
   "source": [
    "#### 2.5 Separate Train & Test data"
   ]
  },
  {
   "cell_type": "code",
   "execution_count": 5,
   "metadata": {
    "collapsed": false
   },
   "outputs": [],
   "source": [
    "# TODO: Replace <FILL IN> with appropriate code\n",
    "\n",
    "# The df_x include all data from the Pclass column to the end(Embarked)\n",
    "df_x=data.ix[<FILL IN>]\n",
    "\n",
    "# The df_y include the Survived column\n",
    "df_y=data[<FILL IN>]\n",
    "\n",
    "# Split train and test data\n",
    "x_train, x_test, y_train, y_test = train_test_split(df_x, df_y, test_size=0.2, random_state=4)\n",
    "\n",
    "# Check train data\n",
    "x_train.head()"
   ]
  },
  {
   "cell_type": "markdown",
   "metadata": {},
   "source": [
    "- - -\n",
    "## Part2: Train and Test Data\n",
    "- - -"
   ]
  },
  {
   "cell_type": "markdown",
   "metadata": {},
   "source": [
    "### 3. Train and Test with Single Decision Tree"
   ]
  },
  {
   "cell_type": "markdown",
   "metadata": {},
   "source": [
    "#### 3.1 Train with Decision Tree and test model"
   ]
  },
  {
   "cell_type": "code",
   "execution_count": 9,
   "metadata": {
    "collapsed": false
   },
   "outputs": [],
   "source": [
    "# TODO: Replace <FILL IN> with appropriate code\n",
    "\n",
    "# Single decision tree\n",
    "dt = <FILL IN>\n",
    "dt = dt.fit(<FILL IN>)\n",
    "pred_dt = dt.predict(<FILL IN>)"
   ]
  },
  {
   "cell_type": "markdown",
   "metadata": {},
   "source": [
    "#### 3.2 Evaluate Decision Tree model"
   ]
  },
  {
   "cell_type": "code",
   "execution_count": 6,
   "metadata": {
    "collapsed": false
   },
   "outputs": [],
   "source": [
    "# TODO: Replace <FILL IN> with appropriate code\n",
    "\n",
    "# s contains actual data of Titanic survivors\n",
    "s=y_test.values\n",
    "\n",
    "# counts the number of correct prediction for decision tree model\n",
    "count_dt=0\n",
    "\n",
    "# compare predicted result from decision tree to the actual survivor data\n",
    "for i in range(len(pred_dt)):\n",
    "    if pred_dt[i]==s[i]:\n",
    "        count_dt=count_dt+1\n",
    "\n",
    "# Calculate the accuracy of the decision tree model\n",
    "accuracy_dt = <FILL IN>/len(<FILL IN>)\n",
    "\n",
    "# Print accuracy of the decision tree model\n",
    "accuracy_dt"
   ]
  },
  {
   "cell_type": "markdown",
   "metadata": {},
   "source": [
    "### 4. Train and Test with Random Forest"
   ]
  },
  {
   "cell_type": "markdown",
   "metadata": {},
   "source": [
    "#### 4.1 Train with Random Forest and test model"
   ]
  },
  {
   "cell_type": "code",
   "execution_count": 7,
   "metadata": {
    "collapsed": false
   },
   "outputs": [],
   "source": [
    "# TODO: Replace <FILL IN> with appropriate code\n",
    "\n",
    "# Random forest\n",
    "rf = <FILL IN>(n_estimators=100)\n",
    "rf.fit(<FILL IN>,<FILL IN>)\n",
    "pred_rf = rf.predict(<FILL IN>)"
   ]
  },
  {
   "cell_type": "markdown",
   "metadata": {},
   "source": [
    "#### 4.2 Evaluate Random Forest model"
   ]
  },
  {
   "cell_type": "code",
   "execution_count": 8,
   "metadata": {
    "collapsed": false
   },
   "outputs": [],
   "source": [
    "# TODO: Replace <FILL IN> with appropriate code\n",
    "\n",
    "# counts the number of correct prediction for random forest model\n",
    "count_rf=0\n",
    "\n",
    "# compare predicted result from random forest to the actual survivor data\n",
    "for i in range(len(pred_rf)):\n",
    "    if pred_rf[i]==s[i]:\n",
    "        count_rf=count_rf+1\n",
    "        \n",
    "# Calculate the accuracy of the decision tree model\n",
    "accuracy_rf = <FILL IN>/len(<FILL IN>)\n",
    "\n",
    "# Print accuracy of the decision tree model\n",
    "accuracy_rf"
   ]
  }
 ],
 "metadata": {
  "kernelspec": {
   "display_name": "Python 3",
   "language": "python",
   "name": "python3"
  },
  "language_info": {
   "codemirror_mode": {
    "name": "ipython",
    "version": 3
   },
   "file_extension": ".py",
   "mimetype": "text/x-python",
   "name": "python",
   "nbconvert_exporter": "python",
   "pygments_lexer": "ipython3",
   "version": "3.6.0"
  }
 },
 "nbformat": 4,
 "nbformat_minor": 2
}
