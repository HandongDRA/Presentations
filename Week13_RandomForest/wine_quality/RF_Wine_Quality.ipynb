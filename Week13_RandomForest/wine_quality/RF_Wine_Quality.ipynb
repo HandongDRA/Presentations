{
 "cells": [
  {
   "cell_type": "markdown",
   "metadata": {},
   "source": [
    "# <center>Wine Quality Analysis Using Random Forest </center>"
   ]
  },
  {
   "cell_type": "markdown",
   "metadata": {},
   "source": [
    "<img src=\"img/wine_quality_analysis.jpg\" height=\"500\" width=\"500\">"
   ]
  },
  {
   "cell_type": "markdown",
   "metadata": {},
   "source": [
    "- - -\n",
    "## <u>Contents</u>\n",
    "### Part1: Preprocess Data\n",
    "    1. Import necessary libraries\n",
    "    2. Get data and extract information\n",
    "    3. Split train and test data\n",
    "    4. Define key parameters\n",
    "    5. Initialize lists to hold data\n",
    "### Part2: Train and Test Data\n",
    "    6. train and test\n",
    "    7. Make prediction and calculate MSE\n",
    "    8. Plot Result\n",
    "- - - "
   ]
  },
  {
   "cell_type": "markdown",
   "metadata": {},
   "source": [
    "- - -\n",
    "## Part1: Preprocess Data\n",
    "- - -\n",
    "### 1. Import necessary libraries"
   ]
  },
  {
   "cell_type": "code",
   "execution_count": 10,
   "metadata": {
    "collapsed": true
   },
   "outputs": [],
   "source": [
    "from urllib.request import urlopen\n",
    "import numpy\n",
    "from sklearn import tree\n",
    "from sklearn.tree import DecisionTreeRegressor\n",
    "import random\n",
    "from math import sqrt\n",
    "import matplotlib.pyplot as plot"
   ]
  },
  {
   "cell_type": "markdown",
   "metadata": {},
   "source": [
    "### 2. Get data and extract information"
   ]
  },
  {
   "cell_type": "code",
   "execution_count": 2,
   "metadata": {
    "collapsed": true
   },
   "outputs": [],
   "source": [
    "#read data into iterable\n",
    "target_url = \"http://archive.ics.uci.edu/ml/machine-learning-databases/wine-quality/winequality-red.csv\"\n",
    "data = urlopen(target_url)\n",
    "\n",
    "xList = []\n",
    "labels = []\n",
    "names = []\n",
    "firstLine = True\n",
    "\n",
    "for line in data:\n",
    "    if firstLine:\n",
    "        names = line.decode('utf8').strip().split(\";\")\n",
    "        firstLine = False\n",
    "    else:\n",
    "        #split on semi-colon\n",
    "        row = line.decode('utf8').strip().split(\";\")\n",
    "        #put labels in separate array\n",
    "        labels.append(float(row[-1]))\n",
    "        #remove label from row\n",
    "        row.pop()\n",
    "        #convert row to floats\n",
    "        floatRow = [float(num) for num in row]\n",
    "        xList.append(floatRow)\n",
    "\n",
    "nrows = len(xList)\n",
    "ncols = len(xList[0])"
   ]
  },
  {
   "cell_type": "markdown",
   "metadata": {},
   "source": [
    "### 3. Split train and test data"
   ]
  },
  {
   "cell_type": "code",
   "execution_count": 3,
   "metadata": {
    "collapsed": true
   },
   "outputs": [],
   "source": [
    "#take fixed test set 30% of sample\n",
    "random.seed(1)  #set seed so results are the same each run\n",
    "nSample = int(nrows * 0.30)\n",
    "idxTest = random.sample(range(nrows), nSample)\n",
    "idxTest.sort()\n",
    "idxTrain = [idx for idx in range(nrows) if not(idx in idxTest)]\n",
    "\n",
    "#Define test and training attribute and label sets\n",
    "xTrain = [xList[r] for r in idxTrain]\n",
    "xTest = [xList[r] for r in idxTest]\n",
    "yTrain = [labels[r] for r in idxTrain]\n",
    "yTest = [labels[r] for r in idxTest]"
   ]
  },
  {
   "cell_type": "markdown",
   "metadata": {},
   "source": [
    "### 4. Define key parameters"
   ]
  },
  {
   "cell_type": "code",
   "execution_count": 5,
   "metadata": {
    "collapsed": true
   },
   "outputs": [],
   "source": [
    "#train a series of models on random subsets of the training data\n",
    "#collect the models in a list and check error of composite as list grows\n",
    "\n",
    "#maximum number of models to generate\n",
    "numTreesMax = 30\n",
    "\n",
    "#tree depth - typically at the high end\n",
    "treeDepth = 12\n",
    "\n",
    "#pick how many attributes will be used in each model.\n",
    "# authors recommend 1/3 for regression problem\n",
    "nAttr = 4"
   ]
  },
  {
   "cell_type": "markdown",
   "metadata": {},
   "source": [
    "### 5. Initialize lists to hold data"
   ]
  },
  {
   "cell_type": "code",
   "execution_count": 6,
   "metadata": {
    "collapsed": true
   },
   "outputs": [],
   "source": [
    "#initialize a list to hold models\n",
    "modelList = []\n",
    "indexList = []\n",
    "predList = []\n",
    "nTrainRows = len(yTrain)"
   ]
  },
  {
   "cell_type": "markdown",
   "metadata": {},
   "source": [
    "- - -\n",
    "## Part2: Train and Test Data\n",
    "- - -\n",
    "### 6. train and test"
   ]
  },
  {
   "cell_type": "code",
   "execution_count": 7,
   "metadata": {
    "collapsed": true
   },
   "outputs": [],
   "source": [
    "for iTrees in range(numTreesMax):\n",
    "\n",
    "    modelList.append(DecisionTreeRegressor(max_depth=treeDepth))\n",
    "\n",
    "    #take random sample of attributes\n",
    "    idxAttr = random.sample(range(ncols), nAttr)\n",
    "    idxAttr.sort()\n",
    "    indexList.append(idxAttr)\n",
    "\n",
    "    #take a random sample of training rows\n",
    "    idxRows = []\n",
    "    for i in range(int(0.5 * nTrainRows)):\n",
    "        idxRows.append(random.choice(range(len(xTrain))))\n",
    "    idxRows.sort()\n",
    "\n",
    "    #build training set\n",
    "    xRfTrain = []\n",
    "    yRfTrain = []\n",
    "\n",
    "    for i in range(len(idxRows)):\n",
    "        temp = [xTrain[idxRows[i]][j] for j in idxAttr]\n",
    "        xRfTrain.append(temp)\n",
    "        yRfTrain.append(yTrain[idxRows[i]])\n",
    "\n",
    "    modelList[-1].fit(xRfTrain, yRfTrain)\n",
    "\n",
    "    #restrict xTest to attributes selected for training\n",
    "    xRfTest = []\n",
    "    for xx in xTest:\n",
    "        temp = [xx[i] for i in idxAttr]\n",
    "        xRfTest.append(temp)\n",
    "\n",
    "    latestOutSamplePrediction = modelList[-1].predict(xRfTest)\n",
    "    predList.append(list(latestOutSamplePrediction))\n"
   ]
  },
  {
   "cell_type": "markdown",
   "metadata": {},
   "source": [
    "### 7. Make prediction and calculate MSE"
   ]
  },
  {
   "cell_type": "code",
   "execution_count": 8,
   "metadata": {
    "collapsed": true
   },
   "outputs": [],
   "source": [
    "#build cumulative prediction from first \"n\" models\n",
    "mse = []\n",
    "allPredictions = []\n",
    "for iModels in range(len(modelList)):\n",
    "\n",
    "    #add the first \"iModels\" of the predictions and multiply by eps\n",
    "    prediction = []\n",
    "    for iPred in range(len(xTest)):\n",
    "        prediction.append(sum([predList[i][iPred] for i in range(iModels + 1)]) / (iModels + 1))\n",
    "\n",
    "    allPredictions.append(prediction)\n",
    "    errors = [(yTest[i] - prediction[i]) for i in range(len(yTest))]\n",
    "    mse.append(sum([e * e for e in errors]) / len(yTest))\n",
    "\n",
    "\n",
    "nModels = [i + 1 for i in range(len(modelList))]"
   ]
  },
  {
   "cell_type": "markdown",
   "metadata": {},
   "source": [
    "### 8. Plot Result"
   ]
  },
  {
   "cell_type": "code",
   "execution_count": 9,
   "metadata": {
    "collapsed": false
   },
   "outputs": [
    {
     "data": {
      "image/png": "[encoded data removed]",
      "text/plain": [
       "<matplotlib.figure.Figure at 0xf3403437b8>"
      ]
     },
     "metadata": {},
     "output_type": "display_data"
    },
    {
     "name": "stdout",
     "output_type": "stream",
     "text": [
      "Minimum MSE\n",
      "0.422066587714\n"
     ]
    }
   ],
   "source": [
    "plot.plot(nModels,mse)\n",
    "plot.axis('tight')\n",
    "plot.xlabel('Number of Trees in Ensemble')\n",
    "plot.ylabel('Mean Squared Error')\n",
    "plot.ylim((0.0, max(mse)))\n",
    "plot.show()\n",
    "\n",
    "print('Minimum MSE')\n",
    "print(min(mse))\n",
    "\n",
    "#printed output\n",
    "\n",
    "#Depth 1\n",
    "#Minimum MSE\n",
    "#0.52666715461\n",
    "\n",
    "#Depth 5\n",
    "#Minimum MSE\n",
    "#0.426116327584\n",
    "\n",
    "#Depth 12\n",
    "#Minimum MSE\n",
    "#0.38508387863"
   ]
  }
 ],
 "metadata": {
  "kernelspec": {
   "display_name": "Python 3",
   "language": "python",
   "name": "python3"
  },
  "language_info": {
   "codemirror_mode": {
    "name": "ipython",
    "version": 3
   },
   "file_extension": ".py",
   "mimetype": "text/x-python",
   "name": "python",
   "nbconvert_exporter": "python",
   "pygments_lexer": "ipython3",
   "version": "3.6.0"
  }
 },
 "nbformat": 4,
 "nbformat_minor": 2
}
